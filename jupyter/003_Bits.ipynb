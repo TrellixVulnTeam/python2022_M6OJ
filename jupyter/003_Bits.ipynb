{
 "cells": [
  {
   "cell_type": "markdown",
   "metadata": {},
   "source": [
    "# Opérations sur les chaînes de bits\n",
    "\n",
    "* &  \"et\" \n",
    "* |  \"ou\" \n",
    "* ^  \"ou exclusif\"\n",
    "* ~  \"non\" ou \"complémentation\"\n",
    "* << décalage à gauche, ajout de 0 à droite\n",
    "* \\>\\> décalage à droite, ajout de 0 à gauche"
   ]
  },
  {
   "cell_type": "code",
   "execution_count": 1,
   "metadata": {},
   "outputs": [
    {
     "data": {
      "text/plain": [
       "(0, 3, 3, 0, -3, 1, 0, 4, 8)"
      ]
     },
     "execution_count": 1,
     "metadata": {},
     "output_type": "execute_result"
    }
   ],
   "source": [
    "1&2, 1|2, 1^2, 2^2,~2, 2>>1, 2>>2, 2<<1, 2<<2"
   ]
  },
  {
   "cell_type": "markdown",
   "metadata": {},
   "source": [
    "Expliquer !"
   ]
  },
  {
   "cell_type": "markdown",
   "metadata": {},
   "source": [
    "0001      a\n",
    "1011      b\n",
    "0001  &   a&b  and\n",
    "1011  |   a|b  or\n",
    "1010  ^   aˆb ou exclusif XOR\n",
    "1110  ~   ~a   not a    complémentation\n",
    "0100  ~   ~b   not b\n",
    "\n",
    "décalage à gauche\n",
    "a<<1  0010\n",
    "a<<2  0100\n",
    "b<<1  0110\n",
    "\n",
    "décalage à droite\n",
    "a>>1  0000\n",
    "b>>1  0101\n",
    "b>>2  0010\n",
    "\n"
   ]
  },
  {
   "cell_type": "code",
   "execution_count": 9,
   "metadata": {},
   "outputs": [
    {
     "data": {
      "text/plain": [
       "(0, 3, 3, -2, -3, 131, 253, '-0b100000000', '0b101', '0b110', 3)"
      ]
     },
     "execution_count": 9,
     "metadata": {},
     "output_type": "execute_result"
    }
   ],
   "source": [
    "1&2, 1|2, 1^2, ~1, ~2, 0b10000011, 0b11111101, bin(-256), bin(5), bin(6), 5^6"
   ]
  },
  {
   "cell_type": "markdown",
   "metadata": {},
   "source": [
    "00000001   1        00000001 1         00000001 1       00000010 2\n",
    "00000010   2        00000010 2         00000010 2       11111101 ~2 = -3. complement à 2\n",
    "00000000   1&2 (0)  00000011 1|2.(3)   00000011 1^2\n",
    "\n",
    "\n",
    "11111101  = -3. complement à 2                  0101.  5\n",
    "11111100  passe a complement à 1                0110.  6\n",
    "10000011. remove le complement à 1. = -3        0011.  5^6. xor \n",
    "\n",
    "\n"
   ]
  },
  {
   "cell_type": "code",
   "execution_count": 13,
   "metadata": {},
   "outputs": [
    {
     "data": {
      "text/plain": [
       "(-128,)"
      ]
     },
     "execution_count": 13,
     "metadata": {},
     "output_type": "execute_result"
    }
   ],
   "source": [
    "0b00000001 - 0b10000001, \n"
   ]
  },
  {
   "cell_type": "code",
   "execution_count": 3,
   "metadata": {},
   "outputs": [
    {
     "data": {
      "text/plain": [
       "(1, 2, 0)"
      ]
     },
     "execution_count": 3,
     "metadata": {},
     "output_type": "execute_result"
    }
   ],
   "source": [
    "0b01, 0b10, 0b01&0b10"
   ]
  }
 ],
 "metadata": {
  "kernelspec": {
   "display_name": "Python 3 (ipykernel)",
   "language": "python",
   "name": "python3"
  },
  "language_info": {
   "codemirror_mode": {
    "name": "ipython",
    "version": 3
   },
   "file_extension": ".py",
   "mimetype": "text/x-python",
   "name": "python",
   "nbconvert_exporter": "python",
   "pygments_lexer": "ipython3",
   "version": "3.9.10"
  }
 },
 "nbformat": 4,
 "nbformat_minor": 2
}

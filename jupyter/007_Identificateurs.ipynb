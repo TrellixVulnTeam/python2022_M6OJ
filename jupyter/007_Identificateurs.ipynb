{
 "cells": [
  {
   "cell_type": "markdown",
   "id": "e86be146",
   "metadata": {},
   "source": [
    "### Identificateurs\n",
    "pour Python ce sont des noms. - variables\n",
    "commence par une lettre Unicode ou _  underscore.\n",
    "continuent par des lettres, des _ ou des chiffres.\n",
    "\n",
    "- utilisés à chaque fois qu'il nous faut baptiser\n",
    "> une variable, une fonction, une constante\n",
    "\n",
    "#### Eviter les collisions avecs les mots-réservés du langage Python\n",
    "\n",
    "- Signalées par les outils\n",
    "- Pas de confusion possible avec les littéraux"
   ]
  },
  {
   "cell_type": "code",
   "execution_count": 1,
   "id": "75d7c14c",
   "metadata": {},
   "outputs": [],
   "source": [
    "variable = \"string\""
   ]
  },
  {
   "cell_type": "code",
   "execution_count": 2,
   "id": "f9532b0d",
   "metadata": {},
   "outputs": [],
   "source": [
    "numero = 5"
   ]
  },
  {
   "cell_type": "code",
   "execution_count": 3,
   "id": "ca4799a2",
   "metadata": {},
   "outputs": [],
   "source": [
    "_palavra = \"var1\""
   ]
  },
  {
   "cell_type": "code",
   "execution_count": 10,
   "id": "e10a8f3d",
   "metadata": {},
   "outputs": [
    {
     "name": "stdout",
     "output_type": "stream",
     "text": [
      "[<class 'str'>, <class 'int'>, <class 'str'>]\n"
     ]
    }
   ],
   "source": [
    "lst = [variable, numero, _palavra]\n",
    "\n",
    "ans = list(map(type, lst))\n",
    "print(ans)"
   ]
  },
  {
   "cell_type": "markdown",
   "id": "019a4d4a",
   "metadata": {},
   "source": [
    "## Variable  _\n",
    "\n",
    "dan's le l ínterpréteur - valeur de la dernière expression evalué\n",
    "\n",
    "dans le code - désigne une variable que l ón souhaite ignorer ou une variable que l ón ne se donne pas la peine de baptiser.\n",
    "\n",
    "for _ in range(100)\n",
    "\n",
    "__init__(self)\n",
    "\n",
    "_ = 2\n",
    "\n",
    "Separating Digits Of Numbers\n",
    "\n",
    "If you have a long digits number, you can separate the group of digits as you like for better understanding.\n",
    "Ex:- million = 1_000_000\n",
    "Next, you can also use underscore(_) to separate the binary, octal or hex parts of numbers.\n",
    "Ex:- binary = 0b_0010, octa = 0o_64, hexa = 0x_23_ab\n",
    "\n",
    "_name\n",
    "Single Pre Underscore is used for internal use. Most of us don't use it because of that reason.\n",
    "\n",
    "__name\n",
    "Double Pre Underscores are used for the name mangling.\n",
    "\n",
    "__name__\n",
    "In Python, you will find different names which start and end with the double underscore. They are called as magic methods or dunder methods.\n",
    "\n",
    "Snake case\n",
    "\"nom de variable\" devient nom_de_variable\n",
    "\"NomDeVariableUpperCamelCase\" devient nom_de_variable_upper_camel_case\n",
    "\"Variable\" devient variable\n",
    "\"variable\" devient variable (pas de changement)\n",
    "\n"
   ]
  },
  {
   "cell_type": "code",
   "execution_count": 12,
   "id": "1866d3d9",
   "metadata": {},
   "outputs": [
    {
     "data": {
      "text/plain": [
       "(1000000, 5)"
      ]
     },
     "execution_count": 12,
     "metadata": {},
     "output_type": "execute_result"
    }
   ],
   "source": [
    "1_000_000, 0b_0101"
   ]
  },
  {
   "cell_type": "markdown",
   "id": "d6f2b420",
   "metadata": {},
   "source": [
    "# Affectation\n",
    "\n",
    "Le signe égal ne signifique pas l 'égalité mais 'prend la valeur de' <--  **affetation"
   ]
  },
  {
   "cell_type": "code",
   "execution_count": 14,
   "id": "bae7b799",
   "metadata": {},
   "outputs": [
    {
     "name": "stdout",
     "output_type": "stream",
     "text": [
      "a= 25 b= 12\n"
     ]
    }
   ],
   "source": [
    "a = 12\n",
    "b = 25\n",
    "a,b = b,a\n",
    "print('a=', a, 'b=', b)"
   ]
  },
  {
   "cell_type": "markdown",
   "id": "c8e47108",
   "metadata": {},
   "source": [
    "## Affectation chainée"
   ]
  },
  {
   "cell_type": "code",
   "execution_count": 23,
   "id": "e5b74478",
   "metadata": {},
   "outputs": [],
   "source": [
    "a , b = 12 , 5"
   ]
  },
  {
   "cell_type": "code",
   "execution_count": 26,
   "id": "d53a7c4b",
   "metadata": {},
   "outputs": [],
   "source": [
    "a = b = c = 12"
   ]
  },
  {
   "cell_type": "code",
   "execution_count": 27,
   "id": "16371962",
   "metadata": {},
   "outputs": [
    {
     "data": {
      "text/plain": [
       "(12, 12, 12)"
      ]
     },
     "execution_count": 27,
     "metadata": {},
     "output_type": "execute_result"
    }
   ],
   "source": [
    "a,b,c"
   ]
  },
  {
   "cell_type": "code",
   "execution_count": 29,
   "id": "6d0a7124",
   "metadata": {},
   "outputs": [
    {
     "data": {
      "text/plain": [
       "3"
      ]
     },
     "execution_count": 29,
     "metadata": {},
     "output_type": "execute_result"
    }
   ],
   "source": [
    "(a:= 3)"
   ]
  },
  {
   "cell_type": "code",
   "execution_count": null,
   "id": "c293bee2",
   "metadata": {},
   "outputs": [],
   "source": []
  }
 ],
 "metadata": {
  "kernelspec": {
   "display_name": "Python 3 (ipykernel)",
   "language": "python",
   "name": "python3"
  },
  "language_info": {
   "codemirror_mode": {
    "name": "ipython",
    "version": 3
   },
   "file_extension": ".py",
   "mimetype": "text/x-python",
   "name": "python",
   "nbconvert_exporter": "python",
   "pygments_lexer": "ipython3",
   "version": "3.9.10"
  }
 },
 "nbformat": 4,
 "nbformat_minor": 5
}

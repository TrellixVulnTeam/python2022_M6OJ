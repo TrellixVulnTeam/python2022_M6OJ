{
 "cells": [
  {
   "cell_type": "markdown",
   "id": "7da7251c",
   "metadata": {},
   "source": [
    "# importer une bibliothèque\n",
    "\n",
    "import math\n",
    "x1 = -(b-math.sqrt(delta))/(2*a)\n",
    "\n",
    "• importer une fonction d'une bibliothèque\n",
    "\n",
    " from math import sqrt\n",
    "x1 = -(b-sqrt(delta))/(2*a)\n",
    "\n",
    "• importer une fonction d'une bibliothèque en la baptisant d'un nom commode\n",
    "\n",
    "  from math import sqrt as racine\n",
    "  x1 = -(b-racine(delta))/(2*a)"
   ]
  },
  {
   "cell_type": "code",
   "execution_count": null,
   "id": "c2035a4d",
   "metadata": {},
   "outputs": [],
   "source": [
    "import math"
   ]
  },
  {
   "cell_type": "code",
   "execution_count": null,
   "id": "9ee01f4c",
   "metadata": {},
   "outputs": [],
   "source": [
    "import math as mat"
   ]
  },
  {
   "cell_type": "code",
   "execution_count": null,
   "id": "b1ab764e",
   "metadata": {},
   "outputs": [],
   "source": [
    "mat.sqrt(4)"
   ]
  },
  {
   "cell_type": "code",
   "execution_count": null,
   "id": "b18fbee2",
   "metadata": {},
   "outputs": [],
   "source": [
    "from mat import sqrt as racine"
   ]
  },
  {
   "cell_type": "code",
   "execution_count": null,
   "id": "cc69e716",
   "metadata": {},
   "outputs": [],
   "source": [
    "import lib_m4rch"
   ]
  },
  {
   "cell_type": "code",
   "execution_count": null,
   "id": "384943a2",
   "metadata": {},
   "outputs": [],
   "source": [
    "import jjkd"
   ]
  },
  {
   "cell_type": "code",
   "execution_count": null,
   "id": "518d3c2f",
   "metadata": {},
   "outputs": [],
   "source": [
    "dir(lib_m4rch)"
   ]
  },
  {
   "cell_type": "code",
   "execution_count": null,
   "id": "38469558",
   "metadata": {},
   "outputs": [],
   "source": []
  }
 ],
 "metadata": {
  "kernelspec": {
   "display_name": "Python 3 (ipykernel)",
   "language": "python",
   "name": "python3"
  },
  "language_info": {
   "codemirror_mode": {
    "name": "ipython",
    "version": 3
   },
   "file_extension": ".py",
   "mimetype": "text/x-python",
   "name": "python",
   "nbconvert_exporter": "python",
   "pygments_lexer": "ipython3",
   "version": "3.9.10"
  }
 },
 "nbformat": 4,
 "nbformat_minor": 5
}

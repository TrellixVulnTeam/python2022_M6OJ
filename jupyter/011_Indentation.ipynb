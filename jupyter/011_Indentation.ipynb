{
 "cells": [
  {
   "cell_type": "markdown",
   "id": "98b28e77",
   "metadata": {},
   "source": [
    "## Indentation\n",
    " • Les autres langages utilisent le principe des parenthèses pour exprimer\n",
    "– la séquence\n",
    "– l'inclusion\n",
    "L'indentation y est optionnelle – pretty print\n",
    "• Python se sert de l'indentation. Elle n'est pas optionnelle mais fait partie du langage.\n",
    "• La séquence est représentée par l'alignement sur une même verticale\n",
    "• L'inclusion est représentée par un décalage vers la droite (indentation).\n",
    "– le retour vers la gauche correspond à la fermeture de l'inclusion\n",
    "Nombreux exemples à suivre"
   ]
  },
  {
   "cell_type": "code",
   "execution_count": null,
   "id": "54217f17",
   "metadata": {},
   "outputs": [],
   "source": [
    "def fonction():\n",
    " a = 2\n",
    " print(a)\n",
    "fonction()\n",
    "\n"
   ]
  },
  {
   "cell_type": "markdown",
   "id": "daaea202",
   "metadata": {},
   "source": [
    "## Point-virgule\n",
    "• Si l'on tient à introduire plusieurs actions sur la même ligne, alors il faut les séparer par un point-virgule\n",
    "• Le point virgule en fin de ligne est contre-productif\n",
    "– ajout d'une instruction vide"
   ]
  },
  {
   "cell_type": "markdown",
   "id": "d562a70a",
   "metadata": {},
   "source": [
    "## Longueur des lignes\n",
    " • Une ligne de source ne doit pas être prolongée au-delà de la 72ème colonne\n",
    "• Pour continuer sur la ligne suivante , 2 possibilités\n",
    "– un antislash figure comme dernier caractère : \\\n",
    "– un caractère ouvrant est présent et il n'est pas encore fermé : [ ( {"
   ]
  }
 ],
 "metadata": {
  "kernelspec": {
   "display_name": "Python 3 (ipykernel)",
   "language": "python",
   "name": "python3"
  },
  "language_info": {
   "codemirror_mode": {
    "name": "ipython",
    "version": 3
   },
   "file_extension": ".py",
   "mimetype": "text/x-python",
   "name": "python",
   "nbconvert_exporter": "python",
   "pygments_lexer": "ipython3",
   "version": "3.9.10"
  }
 },
 "nbformat": 4,
 "nbformat_minor": 5
}

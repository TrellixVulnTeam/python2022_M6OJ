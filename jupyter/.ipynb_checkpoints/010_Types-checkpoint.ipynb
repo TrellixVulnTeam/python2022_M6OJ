{
 "cells": [
  {
   "cell_type": "markdown",
   "id": "2b2beccd",
   "metadata": {},
   "source": [
    "# Types\n",
    "\n",
    "\n",
    "## • Types élémentaires \n",
    "– int,\n",
    "– float\n",
    "– bool,\n",
    "– complex, \n",
    "– str,\n",
    "– byte\n",
    "\n",
    "#### •  Pour Python, une variable a un type à un instant donné. On doit l'utiliser de manière cohérente. Ce type peut changer : Python est un langage à typage dynamique.\n",
    "#### • Python 3.6 a ajouté le type hint (une indication du type attendu) – a:int\n",
    "Des outils (pycharm) vérifient alors le type.\n",
    "2022 G. Georgoulis Alteractifs/Python 10\n",
    "\n",
    "## Transtypage\n",
    "• type cast\n",
    "• int(x) convertit x en int. De même ...\n",
    "• float(x)\n",
    "• str(x)\n",
    "• bool(x)\n",
    "• complex(x)\n",
    "• Utile dans les entrées sorties type(input(\"Entrez un entier\")) int(input(\"Entrez un entier\"))"
   ]
  }
 ],
 "metadata": {
  "kernelspec": {
   "display_name": "Python 3 (ipykernel)",
   "language": "python",
   "name": "python3"
  },
  "language_info": {
   "codemirror_mode": {
    "name": "ipython",
    "version": 3
   },
   "file_extension": ".py",
   "mimetype": "text/x-python",
   "name": "python",
   "nbconvert_exporter": "python",
   "pygments_lexer": "ipython3",
   "version": "3.9.10"
  }
 },
 "nbformat": 4,
 "nbformat_minor": 5
}

{
 "cells": [
  {
   "cell_type": "code",
   "execution_count": null,
   "id": "41c7a40e",
   "metadata": {},
   "outputs": [],
   "source": []
  },
  {
   "cell_type": "markdown",
   "id": "2edb3559",
   "metadata": {},
   "source": [
    "# if\n",
    "• Action conditionnelle\n",
    "• Les : sont indispensables\n",
    "• L'indentation, aussi\n",
    "• Inclusion d'une action ou d'une séquence d'actions\n",
    "  • Essayer d'écrire sans indenter\n",
    "\n",
    "## if condition : \n",
    "    action1\n",
    "    ...\n",
    "    actionN\n",
    "\n",
    "suite\n",
    "\n",
    "if a!=0: \n",
    "   print(a)\n",
    "   \n",
    "2022 G. Georgoulis Alteractifs/Python 21\n",
    "\n",
    "## if else\n",
    " • Action alternative\n",
    "if condition :\n",
    "    action1\n",
    "else:\n",
    "    action2\n"
   ]
  }
 ],
 "metadata": {
  "kernelspec": {
   "display_name": "Python 3 (ipykernel)",
   "language": "python",
   "name": "python3"
  },
  "language_info": {
   "codemirror_mode": {
    "name": "ipython",
    "version": 3
   },
   "file_extension": ".py",
   "mimetype": "text/x-python",
   "name": "python",
   "nbconvert_exporter": "python",
   "pygments_lexer": "ipython3",
   "version": "3.9.10"
  }
 },
 "nbformat": 4,
 "nbformat_minor": 5
}

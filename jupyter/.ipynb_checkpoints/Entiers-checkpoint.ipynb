{
 "cells": [
  {
   "cell_type": "markdown",
   "id": "dc9fa967",
   "metadata": {},
   "source": [
    "# Python 202203 "
   ]
  },
  {
   "cell_type": "markdown",
   "id": "1d4dd73b",
   "metadata": {},
   "source": [
    "> 22/03/2022\n"
   ]
  },
  {
   "cell_type": "markdown",
   "id": "8d6e3fd0",
   "metadata": {},
   "source": [
    "## Entiers\n",
    "integer, int, <class 'int'>"
   ]
  },
  {
   "cell_type": "code",
   "execution_count": 1,
   "id": "fde60b8a",
   "metadata": {},
   "outputs": [
    {
     "data": {
      "text/plain": [
       "100"
      ]
     },
     "execution_count": 1,
     "metadata": {},
     "output_type": "execute_result"
    }
   ],
   "source": [
    "100"
   ]
  },
  {
   "cell_type": "markdown",
   "id": "75c158aa",
   "metadata": {},
   "source": [
    "## Littéraux"
   ]
  },
  {
   "cell_type": "code",
   "execution_count": 2,
   "id": "f18b84b7",
   "metadata": {},
   "outputs": [
    {
     "data": {
      "text/plain": [
       "(0, 2, -1, 12888, 16787687276726686686868686862532137157218)"
      ]
     },
     "execution_count": 2,
     "metadata": {},
     "output_type": "execute_result"
    }
   ],
   "source": [
    "0, 2, -1, 12888, 16787687276726686686868686862532137157218"
   ]
  },
  {
   "cell_type": "markdown",
   "id": "56da814b",
   "metadata": {},
   "source": [
    "## Opérateurs"
   ]
  },
  {
   "cell_type": "markdown",
   "id": "ca6485b5",
   "metadata": {},
   "source": [
    "### 4 opérations arithmétiques"
   ]
  },
  {
   "cell_type": "markdown",
   "id": "5e11f79e",
   "metadata": {},
   "source": [
    "#### operateurs binaires"
   ]
  },
  {
   "cell_type": "code",
   "execution_count": 3,
   "id": "6d975021",
   "metadata": {},
   "outputs": [
    {
     "data": {
      "text/plain": [
       "(3, 3, -4, 1.5, 6)"
      ]
     },
     "execution_count": 3,
     "metadata": {},
     "output_type": "execute_result"
    }
   ],
   "source": [
    "1+2, 8-5, 5-9, 3/2, 3*2"
   ]
  },
  {
   "cell_type": "markdown",
   "id": "0d3da165",
   "metadata": {},
   "source": [
    "##### division de numbres, le resultat sera toujours un float."
   ]
  },
  {
   "cell_type": "markdown",
   "id": "c6c6fa5b",
   "metadata": {},
   "source": [
    "#### Priorités des opérateurs"
   ]
  },
  {
   "cell_type": "code",
   "execution_count": 4,
   "id": "1c0b0bcf",
   "metadata": {},
   "outputs": [
    {
     "data": {
      "text/plain": [
       "(7, 9, 7)"
      ]
     },
     "execution_count": 4,
     "metadata": {},
     "output_type": "execute_result"
    }
   ],
   "source": [
    "1+2*3, (1+2)*3, 1+(2*3)"
   ]
  },
  {
   "cell_type": "markdown",
   "id": "c7d8331f",
   "metadata": {},
   "source": [
    ">priorités en Python\n",
    "Operator\n",
    "\n",
    "Description\n",
    "()\tParentheses (grouping)\n",
    "\n",
    "f(args...)\tFunction call\n",
    "\n",
    "x[index:index]\tSlicing\n",
    "\n",
    "x[index]\tSubscription\n",
    "\n",
    "x.attribute\tAttribute reference\n",
    "\n",
    "**\tExponentiation\n",
    "\n",
    "~x\tBitwise not\n",
    "\n",
    "+x, -x\tPositive, negative\n",
    "\n",
    "*, /, %\tMultiplication, division, remainder\n",
    "\n",
    "+, -\tAddition, subtraction\n",
    "\n",
    "<<, >>\tBitwise shifts\n",
    "\n",
    "&\tBitwise AND\n",
    "\n",
    "^\tBitwise XOR\n",
    "\n",
    "|\tBitwise OR\n",
    "\n",
    "in, not in, is, is not, <, <=,  >,  >=,\n",
    "\n",
    "<>, !=, ==\tComparisons, membership, identity\n",
    "\n",
    "not x\tBoolean NOT\n",
    "\n",
    "and\tBoolean AND\n",
    "\n",
    "or\tBoolean OR\n",
    "\n",
    "lambda\tLambda expression"
   ]
  },
  {
   "cell_type": "markdown",
   "id": "8b0ef639",
   "metadata": {},
   "source": [
    "### Division entière et modulo"
   ]
  },
  {
   "cell_type": "code",
   "execution_count": 5,
   "id": "bf1c88d8",
   "metadata": {},
   "outputs": [
    {
     "data": {
      "text/plain": [
       "(5.4, 5, 2)"
      ]
     },
     "execution_count": 5,
     "metadata": {},
     "output_type": "execute_result"
    }
   ],
   "source": [
    "27/5, 27//5, 27%5"
   ]
  },
  {
   "cell_type": "markdown",
   "id": "8a32d6f3",
   "metadata": {},
   "source": [
    "Diviser a par b, trouver q, r tels a = b * q + r\n",
    "q s'appelle le quotient\n",
    "r s'appelle le reste\n",
    "quotient a//b\n",
    "reste a%b"
   ]
  },
  {
   "cell_type": "code",
   "execution_count": null,
   "id": "47422ee8",
   "metadata": {},
   "outputs": [],
   "source": []
  }
 ],
 "metadata": {
  "kernelspec": {
   "display_name": "Python 3 (ipykernel)",
   "language": "python",
   "name": "python3"
  },
  "language_info": {
   "codemirror_mode": {
    "name": "ipython",
    "version": 3
   },
   "file_extension": ".py",
   "mimetype": "text/x-python",
   "name": "python",
   "nbconvert_exporter": "python",
   "pygments_lexer": "ipython3",
   "version": "3.9.10"
  }
 },
 "nbformat": 4,
 "nbformat_minor": 5
}

{
 "cells": [
  {
   "cell_type": "markdown",
   "metadata": {},
   "source": [
    "# Entiers\n",
    "integer, int, <class 'int'>"
   ]
  },
  {
   "cell_type": "markdown",
   "metadata": {},
   "source": [
    "## Littéraux"
   ]
  },
  {
   "cell_type": "code",
   "execution_count": 1,
   "metadata": {},
   "outputs": [
    {
     "data": {
      "text/plain": [
       "(0, -1, 12896, 197867654730978639873989)"
      ]
     },
     "execution_count": 1,
     "metadata": {},
     "output_type": "execute_result"
    }
   ],
   "source": [
    "0, -1, 12896, 197867654730978639873989"
   ]
  },
  {
   "cell_type": "code",
   "execution_count": 2,
   "metadata": {},
   "outputs": [
    {
     "data": {
      "text/plain": [
       "(0, 5, -10, 1048, 1999999999999999999999999999999)"
      ]
     },
     "execution_count": 2,
     "metadata": {},
     "output_type": "execute_result"
    }
   ],
   "source": [
    "0, 5, -10, 1048, 1999999999999999999999999999999"
   ]
  },
  {
   "cell_type": "markdown",
   "metadata": {},
   "source": [
    "## Opérateurs"
   ]
  },
  {
   "cell_type": "markdown",
   "metadata": {},
   "source": [
    "### 4 opérations arithmétiques"
   ]
  },
  {
   "cell_type": "code",
   "execution_count": 2,
   "metadata": {},
   "outputs": [
    {
     "data": {
      "text/plain": [
       "(3, 3, -4, 132, 0.12)"
      ]
     },
     "execution_count": 2,
     "metadata": {},
     "output_type": "execute_result"
    }
   ],
   "source": [
    "1+2, 8-5, 5-9, 12*11, 12/100"
   ]
  },
  {
   "cell_type": "code",
   "execution_count": 3,
   "metadata": {},
   "outputs": [
    {
     "data": {
      "text/plain": [
       "(11, 11, -800)"
      ]
     },
     "execution_count": 3,
     "metadata": {},
     "output_type": "execute_result"
    }
   ],
   "source": [
    "2*3+5, 5+3*2, 100*2-1000"
   ]
  },
  {
   "cell_type": "code",
   "execution_count": 5,
   "metadata": {},
   "outputs": [],
   "source": [
    "import math"
   ]
  },
  {
   "cell_type": "code",
   "execution_count": 9,
   "metadata": {},
   "outputs": [
    {
     "data": {
      "text/plain": [
       "(3.141592653589793, 6.283185307179586, 3.1416)"
      ]
     },
     "execution_count": 9,
     "metadata": {},
     "output_type": "execute_result"
    }
   ],
   "source": [
    "math.pi, math.pi*2, round(math.pi,4)"
   ]
  },
  {
   "cell_type": "markdown",
   "metadata": {},
   "source": [
    "### Priorités des opérateurs"
   ]
  },
  {
   "cell_type": "code",
   "execution_count": 3,
   "metadata": {},
   "outputs": [
    {
     "data": {
      "text/plain": [
       "(7, 9, 7)"
      ]
     },
     "execution_count": 3,
     "metadata": {},
     "output_type": "execute_result"
    }
   ],
   "source": [
    "1+2*3, (1+2)*3, 1+(2*3)"
   ]
  },
  {
   "cell_type": "markdown",
   "metadata": {},
   "source": [
    "### Division entière et modulo"
   ]
  },
  {
   "cell_type": "code",
   "execution_count": 4,
   "metadata": {},
   "outputs": [
    {
     "data": {
      "text/plain": [
       "(5.4, 5, 2)"
      ]
     },
     "execution_count": 4,
     "metadata": {},
     "output_type": "execute_result"
    }
   ],
   "source": [
    "27/5, 27//5, 27%5"
   ]
  },
  {
   "cell_type": "markdown",
   "metadata": {},
   "source": [
    "## Elévation à la puissance"
   ]
  },
  {
   "cell_type": "code",
   "execution_count": 27,
   "metadata": {},
   "outputs": [
    {
     "data": {
      "text/plain": [
       "(8, -8, -8, 123)"
      ]
     },
     "execution_count": 27,
     "metadata": {},
     "output_type": "execute_result"
    }
   ],
   "source": [
    "2**3, -2**3, (-2)**3, -2+5**3"
   ]
  },
  {
   "cell_type": "markdown",
   "metadata": {},
   "source": [
    "L'élévation à la puissance est prioritaire sur les multiplications/divisions, elles-mêmes prioritaires sur les additions/soustractions."
   ]
  },
  {
   "cell_type": "markdown",
   "metadata": {},
   "source": [
    "### Représentation polynômiale des nombres entiers\n",
    "En base B, un nombre entier peut être mis sous la forme d'un polynome en B\n",
    "\n",
    "$$\\sum_{i=0}^n a{_i}B^i$$\n",
    "\n",
    "Avec $0\\leq a{_i}<B$\n",
    "\n",
    "Il s'écrit alors\n",
    "$$a{_n}...a{_0}$$\n",
    "\n",
    "Par exemple 123 en base 10 ($B=10$) \n",
    "$$1*10^2+2*10^1+3*10^0$$\n",
    "\n",
    "Pour l'informatique, les bases 2 (binaire), 8 (octal), 16 (hexadecimal) sont importantes.\n"
   ]
  },
  {
   "cell_type": "markdown",
   "metadata": {},
   "source": [
    "123 en base 16:"
   ]
  },
  {
   "cell_type": "code",
   "execution_count": 33,
   "metadata": {},
   "outputs": [
    {
     "data": {
      "text/plain": [
       "(4, 2.0, 2.0, 8, 2.0, 32, 2.0)"
      ]
     },
     "execution_count": 33,
     "metadata": {},
     "output_type": "execute_result"
    }
   ],
   "source": [
    "2**2, math.sqrt(4), 4**(1/2), 2*2*2, 8**(1/3), 2**5, 32**(1/5)"
   ]
  },
  {
   "cell_type": "code",
   "execution_count": 26,
   "metadata": {},
   "outputs": [
    {
     "data": {
      "text/plain": [
       "(291, 25, 5.0, 5.0)"
      ]
     },
     "execution_count": 26,
     "metadata": {},
     "output_type": "execute_result"
    }
   ],
   "source": [
    "1*(16**2)+2*(16**1)+3*(16**0)"
   ]
  },
  {
   "cell_type": "code",
   "execution_count": 6,
   "metadata": {},
   "outputs": [
    {
     "data": {
      "text/plain": [
       "(10, 10, 10, 10)"
      ]
     },
     "execution_count": 6,
     "metadata": {},
     "output_type": "execute_result"
    }
   ],
   "source": [
    "0b1010, 10,0o12, 0xA # différentes écritures de 10 en base 2, 8, 10, 16"
   ]
  },
  {
   "cell_type": "markdown",
   "metadata": {},
   "source": [
    "###  Représentation naturelle des entiers naturels\n",
    "\n",
    "La technologie fournit des dispositifs bistables (2 états, notés 0 et 1) par lesquels on représente les chiffres de la base 2 (bits). Les nombres se représentent donc en base 2, par une suite de bits. Pour des raisons technologiques, on regroupe les bits par paquets de 8 ($2^3$). On parle d'octet (byte). On représente des nombres de plus en plus grands sur des mots mémoires d'un octet, 2 octets, 4 octets, 8 octets. "
   ]
  },
  {
   "cell_type": "code",
   "execution_count": 15,
   "metadata": {},
   "outputs": [
    {
     "data": {
      "text/plain": [
       "17"
      ]
     },
     "execution_count": 15,
     "metadata": {},
     "output_type": "execute_result"
    }
   ],
   "source": [
    "1*(2**4)+0*(2**3)+0*(2**2)+0*(2**1)+1*(2**0)"
   ]
  },
  {
   "cell_type": "code",
   "execution_count": 7,
   "metadata": {},
   "outputs": [
    {
     "data": {
      "text/plain": [
       "(256, 65536, 4294967296, 18446744073709551616)"
      ]
     },
     "execution_count": 7,
     "metadata": {},
     "output_type": "execute_result"
    }
   ],
   "source": [
    "2**8, 2**16, 2**32, 2**64"
   ]
  },
  {
   "cell_type": "markdown",
   "metadata": {},
   "source": [
    "Selon la longueur n d'un mot mémoire, exprimée en nombre de bits, on peut ainsi représenter les nombres de $0$ à $2^n-1$.\n",
    "\n",
    "Au delà de cette limite, la capacité d'un mot mémoire est dépassée, Python3 s'adapte et change de représentation. Un tableau est utilisé pour représenter une suite de chiffres arbitrairement longue.\n",
    "\n",
    "Cette représentation permet les opérations sur les entiers. Ainsi, l'addition de 2 bits correspond à un OU EXCLUSIF et donne lieu à une retenue qui correspond au ET des 2 bits. L'addition de deux nombres représentées sur n bits s'effectue en additionnant les bits de positions correspondantes, en commençant par ceux de poids faibles et en reportant les retenues éventuelles sur le rang suivant."
   ]
  },
  {
   "cell_type": "markdown",
   "metadata": {},
   "source": [
    "### Représentation des entiers relatifs\n",
    "\n",
    "Pour distinguer les nombres entiers positifs et négatifs, on réserve un bit pour le signe. En général, 0 pour + et 1 pour -.\n",
    "\n",
    "On peut alors représenter les nombres de $-2^{n-1}-1$ jusqu'à $+2^{n-1}-1$.\n",
    "\n",
    "Cette représentation naturelle a deux inconvénients.\n",
    "\n",
    "1) Il y a deux représentations pour 0 (+0 et -0). Cela complique la comparaison de deux nombres et cela fait perdre une configuration utile.\n",
    "\n",
    "2) L'algorithme de l'addition donne un résultat erroné lorsque l'un des deux nombres au moins est négatif. Pour $3-5$, il donne $-8$ au lieu de $-2$.\n",
    "\n",
    "$00000011+$\n",
    "\n",
    "$10000101=$\n",
    "\n",
    "$10001000$\n",
    "\n",
    "Pour corriger ces inconvénients, on utilise la représentation des nombres négatifs par leur complément à 2.\n",
    "\n",
    "Pour construire le complément à 2, on construit tout d'abord le complément à 1. Pour cela, on inverse chaque bit sauf le bit de signe : remplacer les 0 par des 1 et les 1 par des 0. Par exemple pour -5 on a :\n",
    "\n",
    "$11111010$\n",
    "\n",
    "Pour construire le complément à 2, on ajoute 1 au complément à 1. Pour -5, cela donne :\n",
    "\n",
    "$11111011$\n",
    "\n",
    "L'algorithme naturel de l'addition donne alors un résultat différent.\n",
    "\n",
    "$00000011+$\n",
    "\n",
    "$11111011=$\n",
    "\n",
    "$11111110$\n",
    "\n",
    "On reconnaît un nombre négatif à son bit de signe.\n",
    "On retire 1 pour avoir le complément à 1.\n",
    "\n",
    "$11111101$\n",
    "\n",
    "On inverse tous les bits sauf le bit de signe pour avoir l'écriture naturelle du nombre relatif\n",
    "\n",
    "$10000010$\n",
    "\n",
    "On lit un résultat correct, $-2$.\n",
    "\n",
    "La représentation des nombres négatifs par leur complément à 2 permet de représenter sur n bits les nombres allant de \n",
    "\n",
    "$-2^{n-1}$ jusqu'à $+2^{n-1}-1$. \n",
    "\n",
    "Toutes les configurations sont utilisées. Chaque nombre à une représentation distincte. L'algorithme naturel de l'addition peut être utilisé.\n"
   ]
  },
  {
   "cell_type": "code",
   "execution_count": 8,
   "metadata": {},
   "outputs": [
    {
     "data": {
      "text/plain": [
       "-4"
      ]
     },
     "execution_count": 8,
     "metadata": {},
     "output_type": "execute_result"
    }
   ],
   "source": [
    "-2**2\n"
   ]
  },
  {
   "cell_type": "markdown",
   "metadata": {},
   "source": [
    "L'operateur unaire '-'  avoir moins precedente que la puissance (**), donc pour elever un nombre negatif à la puissance on a besoin de utiliser des parenteses."
   ]
  },
  {
   "cell_type": "code",
   "execution_count": 9,
   "metadata": {},
   "outputs": [
    {
     "data": {
      "text/plain": [
       "4"
      ]
     },
     "execution_count": 9,
     "metadata": {},
     "output_type": "execute_result"
    }
   ],
   "source": [
    "(-2)**2"
   ]
  },
  {
   "cell_type": "code",
   "execution_count": 10,
   "metadata": {},
   "outputs": [
    {
     "data": {
      "text/plain": [
       "int"
      ]
     },
     "execution_count": 10,
     "metadata": {},
     "output_type": "execute_result"
    }
   ],
   "source": [
    "type(1)"
   ]
  },
  {
   "cell_type": "code",
   "execution_count": 11,
   "metadata": {},
   "outputs": [
    {
     "data": {
      "text/plain": [
       "float"
      ]
     },
     "execution_count": 11,
     "metadata": {},
     "output_type": "execute_result"
    }
   ],
   "source": [
    "type(3.14)\n"
   ]
  },
  {
   "cell_type": "code",
   "execution_count": 12,
   "metadata": {},
   "outputs": [
    {
     "data": {
      "text/plain": [
       "3"
      ]
     },
     "execution_count": 12,
     "metadata": {},
     "output_type": "execute_result"
    }
   ],
   "source": [
    "int(3.14)"
   ]
  },
  {
   "cell_type": "code",
   "execution_count": 18,
   "metadata": {},
   "outputs": [
    {
     "data": {
      "text/plain": [
       "-3"
      ]
     },
     "execution_count": 18,
     "metadata": {},
     "output_type": "execute_result"
    }
   ],
   "source": [
    "int(-3.94)"
   ]
  },
  {
   "cell_type": "code",
   "execution_count": 19,
   "metadata": {},
   "outputs": [],
   "source": [
    "import math"
   ]
  },
  {
   "cell_type": "code",
   "execution_count": 14,
   "metadata": {},
   "outputs": [
    {
     "data": {
      "text/plain": [
       "10"
      ]
     },
     "execution_count": 14,
     "metadata": {},
     "output_type": "execute_result"
    }
   ],
   "source": [
    "0xA"
   ]
  },
  {
   "cell_type": "code",
   "execution_count": 15,
   "metadata": {},
   "outputs": [
    {
     "data": {
      "text/plain": [
       "63"
      ]
     },
     "execution_count": 15,
     "metadata": {},
     "output_type": "execute_result"
    }
   ],
   "source": [
    "0o77"
   ]
  },
  {
   "cell_type": "code",
   "execution_count": 16,
   "metadata": {},
   "outputs": [
    {
     "data": {
      "text/plain": [
       "7"
      ]
     },
     "execution_count": 16,
     "metadata": {},
     "output_type": "execute_result"
    }
   ],
   "source": [
    "0b111, 0b01\n"
   ]
  },
  {
   "cell_type": "markdown",
   "metadata": {},
   "source": [
    "Afficher un nombre au format binaire(selon https://stackoverflow.com/questions/699866/python-int-to-binary-string)"
   ]
  },
  {
   "cell_type": "code",
   "execution_count": 17,
   "metadata": {},
   "outputs": [
    {
     "data": {
      "text/plain": [
       "'111111'"
      ]
     },
     "execution_count": 17,
     "metadata": {},
     "output_type": "execute_result"
    }
   ],
   "source": [
    "\"{0:b}\".format(63)"
   ]
  },
  {
   "cell_type": "code",
   "execution_count": 18,
   "metadata": {},
   "outputs": [
    {
     "data": {
      "text/plain": [
       "'-111111'"
      ]
     },
     "execution_count": 18,
     "metadata": {},
     "output_type": "execute_result"
    }
   ],
   "source": [
    "\"{0:b}\".format(-63)"
   ]
  },
  {
   "cell_type": "code",
   "execution_count": 19,
   "metadata": {},
   "outputs": [
    {
     "data": {
      "text/plain": [
       "'-1'"
      ]
     },
     "execution_count": 19,
     "metadata": {},
     "output_type": "execute_result"
    }
   ],
   "source": [
    "\"{0:b}\".format(-1)"
   ]
  },
  {
   "cell_type": "code",
   "execution_count": 20,
   "metadata": {},
   "outputs": [
    {
     "data": {
      "text/plain": [
       "('0b111111', '-0b111111', '-0b1')"
      ]
     },
     "execution_count": 20,
     "metadata": {},
     "output_type": "execute_result"
    }
   ],
   "source": [
    "bin(63), bin(-63), bin(-1)"
   ]
  },
  {
   "cell_type": "code",
   "execution_count": 21,
   "metadata": {},
   "outputs": [
    {
     "data": {
      "text/plain": [
       "('111111', '-111111', '-1')"
      ]
     },
     "execution_count": 21,
     "metadata": {},
     "output_type": "execute_result"
    }
   ],
   "source": [
    "f\"{63:b}\", f\"{-63:b}\", f\"{-1:b}\""
   ]
  },
  {
   "cell_type": "markdown",
   "metadata": {},
   "source": [
    "Pour avoir le bit de signe et la représentation en code complément à 2, il faut spécifier le nombre de bits sur lequel l'entier est représenté. \n",
    "\n",
    "'{:0 compléter avec des 0 à gauche\n",
    "b écrire en binaire\n",
    "%i une valeur entière qui sera substituée par nbits"
   ]
  },
  {
   "cell_type": "code",
   "execution_count": 22,
   "metadata": {},
   "outputs": [],
   "source": [
    "def int2bin(nbits,x):\n",
    "    if x < 0:\n",
    "    #\n",
    "    #  on calcule le complément à 2\n",
    "    #\n",
    "        x = ( 1<<nbits ) + x\n",
    "    #\n",
    "    #  on complète l'écriture binaire par des 0 à gauche pour avoir nbits en tout\n",
    "    #\n",
    "    formatstring = '{:0%ib}' % nbits\n",
    "    return formatstring.format(x)"
   ]
  },
  {
   "cell_type": "code",
   "execution_count": 23,
   "metadata": {},
   "outputs": [
    {
     "data": {
      "text/plain": [
       "('00111111', '11000001', '11111111', '11111110')"
      ]
     },
     "execution_count": 23,
     "metadata": {},
     "output_type": "execute_result"
    }
   ],
   "source": [
    "int2bin(8,63), int2bin(8,-63), int2bin(8,-1), int2bin(8, -1<<1)"
   ]
  },
  {
   "cell_type": "code",
   "execution_count": 24,
   "metadata": {},
   "outputs": [
    {
     "data": {
      "text/plain": [
       "-2"
      ]
     },
     "execution_count": 24,
     "metadata": {},
     "output_type": "execute_result"
    }
   ],
   "source": [
    "-1<<1"
   ]
  },
  {
   "cell_type": "code",
   "execution_count": 25,
   "metadata": {},
   "outputs": [
    {
     "data": {
      "text/plain": [
       "255"
      ]
     },
     "execution_count": 25,
     "metadata": {},
     "output_type": "execute_result"
    }
   ],
   "source": [
    "0xFF"
   ]
  },
  {
   "cell_type": "code",
   "execution_count": 26,
   "metadata": {},
   "outputs": [
    {
     "data": {
      "text/plain": [
       "'-0b101'"
      ]
     },
     "execution_count": 26,
     "metadata": {},
     "output_type": "execute_result"
    }
   ],
   "source": [
    "bin(-5)"
   ]
  },
  {
   "cell_type": "code",
   "execution_count": 3,
   "metadata": {},
   "outputs": [
    {
     "data": {
      "text/plain": [
       "4"
      ]
     },
     "execution_count": 3,
     "metadata": {},
     "output_type": "execute_result"
    }
   ],
   "source": [
    "0b010<<1"
   ]
  },
  {
   "cell_type": "code",
   "execution_count": 13,
   "metadata": {},
   "outputs": [
    {
     "data": {
      "text/plain": [
       "(10, 10, 10, 10)"
      ]
     },
     "execution_count": 13,
     "metadata": {},
     "output_type": "execute_result"
    }
   ],
   "source": [
    "0b1010, 0o12, 10, 0xA"
   ]
  },
  {
   "cell_type": "code",
   "execution_count": 5,
   "metadata": {},
   "outputs": [
    {
     "data": {
      "text/plain": [
       "3"
      ]
     },
     "execution_count": 5,
     "metadata": {},
     "output_type": "execute_result"
    }
   ],
   "source": [
    "1+2"
   ]
  },
  {
   "cell_type": "code",
   "execution_count": 8,
   "metadata": {},
   "outputs": [
    {
     "data": {
      "image/png": "[encoded data removed]",
      "text/plain": [
       "<Figure size 432x288 with 1 Axes>"
      ]
     },
     "metadata": {
      "needs_background": "light"
     },
     "output_type": "display_data"
    }
   ],
   "source": [
    "import matplotlib.pyplot as plt\n",
    "import numpy as np\n",
    "\n",
    "# Data for plotting\n",
    "t = np.arange(1, 2, 3)\n",
    "s = 1 + np.sin(2 * np.pi * t)\n",
    "\n",
    "fig, ax = plt.subplots()\n",
    "ax.plot(t, s)\n",
    "\n",
    "ax.set(xlabel='time (s)', ylabel='voltage (mV)',\n",
    "       title='About as simple as it gets, folks')\n",
    "ax.grid()\n",
    "\n",
    "fig.savefig(\"test.png\")\n",
    "plt.show()"
   ]
  },
  {
   "cell_type": "code",
   "execution_count": 34,
   "metadata": {},
   "outputs": [
    {
     "data": {
      "image/png": "[encoded data removed]",
      "text/plain": [
       "<Figure size 432x288 with 1 Axes>"
      ]
     },
     "metadata": {
      "needs_background": "light"
     },
     "output_type": "display_data"
    }
   ],
   "source": [
    "import numpy as np\n",
    "import matplotlib.pyplot as plt\n",
    "import math\n",
    "\n",
    "def f(x):\n",
    "    return np.sin(x)\n",
    "fx_name = r'$f(x)=\\frac{1}{x}$'\n",
    "\n",
    "x=np.setdiff1d(np.linspace(-10,10,100),[0]) #to remove the zero\n",
    "y=f(x)\n",
    "plt.plot(x, y, label=fx_name)\n",
    "plt.legend(loc='upper left')\n",
    "plt.show()"
   ]
  },
  {
   "cell_type": "code",
   "execution_count": null,
   "metadata": {
    "collapsed": true
   },
   "outputs": [],
   "source": [
    "import math\n",
    "class point:\n",
    "    def __init__(self, x, y, z):\n",
    "        self.x = x\n",
    "        self.y = y\n",
    "        self.z = z\n",
    "x = 0\n",
    "y = 0\n",
    "for i in range(10):\n",
    "    for ii in range(10):\n",
    "        p = True\n",
    "        while bool(p):      \n",
    "            p1 = point(0,x+i,0)\n",
    "            p2 = point(y+ii,0,0)       \n",
    "\n",
    "            distanceByTwoPoints = math.sqrt((p1.y-p2.y)**2 + (p1.x-p2.x)**2)\n",
    "            print(distanceByTwoPoints)\n",
    "            "
   ]
  },
  {
   "cell_type": "code",
   "execution_count": null,
   "metadata": {},
   "outputs": [],
   "source": []
  }
 ],
 "metadata": {
  "kernelspec": {
   "display_name": "Python 3 (ipykernel)",
   "language": "python",
   "name": "python3"
  },
  "language_info": {
   "codemirror_mode": {
    "name": "ipython",
    "version": 3
   },
   "file_extension": ".py",
   "mimetype": "text/x-python",
   "name": "python",
   "nbconvert_exporter": "python",
   "pygments_lexer": "ipython3",
   "version": "3.9.10"
  }
 },
 "nbformat": 4,
 "nbformat_minor": 2
}

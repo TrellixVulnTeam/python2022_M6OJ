{
 "cells": [
  {
   "cell_type": "code",
   "execution_count": null,
   "id": "cf5fa786",
   "metadata": {},
   "outputs": [],
   "source": []
  },
  {
   "cell_type": "markdown",
   "id": "7c4e79a8",
   "metadata": {},
   "source": [
    "# if\n",
    "• Action conditionnelle\n",
    "• Les : sont indispensables\n",
    "• L'indentation, aussi\n",
    "• Inclusion d'une action ou d'une séquence d'actions\n",
    "  • Essayer d'écrire sans indenter\n",
    "\n",
    "\n",
    "if condition : \n",
    "    action1\n",
    "    ...\n",
    "    actionN\n",
    "\n",
    "suite du code...\n",
    "\n",
    "\n",
    "if a!=0: \n",
    "   print(a)\n",
    "   \n",
    "\n",
    "\n",
    "## if else\n",
    " • Action alternative\n",
    " \n",
    "if condition :\n",
    "    action1\n",
    "else:\n",
    "    action2\n",
    "\n",
    "suite du code...\n",
    "\n",
    "## elif\n",
    "\n",
    " • Alternative complexe • else-if\n",
    "• Tester une condition après l'autre\n",
    "• Aller directement à la bonne clause\n",
    "– switch de Java ou C\n",
    "– case de Pascal\n",
    "– goto calculé de Fortran\n",
    "n'existent pas en Python3 on fait autrement...\n",
    "\n",
    "if condition1 : \n",
    "    action1\n",
    "elif condition2 : \n",
    "    action2\n",
    "elif condition...: \n",
    "    ...\n",
    "else:\n",
    "    actionN\n",
    "    \n",
    "suite du code ..."
   ]
  },
  {
   "cell_type": "markdown",
   "id": "5f1f4871",
   "metadata": {},
   "source": [
    "## Condition = expression booléenne\n",
    "• Plus généralement\n",
    "– expression dont le résultat est interprété comme True ou False"
   ]
  },
  {
   "cell_type": "code",
   "execution_count": 10,
   "id": "9a9fce59",
   "metadata": {},
   "outputs": [
    {
     "name": "stdout",
     "output_type": "stream",
     "text": [
      "5 est impair\n"
     ]
    }
   ],
   "source": [
    "a = 5\n",
    "if a % 2 == 1 : print(a,f\"est impair\")"
   ]
  },
  {
   "cell_type": "code",
   "execution_count": 11,
   "id": "7d566aa8",
   "metadata": {},
   "outputs": [
    {
     "name": "stdout",
     "output_type": "stream",
     "text": [
      "5 est impair\n"
     ]
    }
   ],
   "source": [
    " if a%2 : print(a,f\"est impair\")"
   ]
  },
  {
   "cell_type": "markdown",
   "id": "33899361",
   "metadata": {},
   "source": [
    "False = tous qu'est nulle  ou vide."
   ]
  },
  {
   "cell_type": "markdown",
   "id": "98fc5d2c",
   "metadata": {},
   "source": [
    "# Opérateur ternaire\n",
    "– 3 opérandes, 2 mots clés\n",
    "– 1 condition : cond\n",
    "– La valeur si vrai : val1\n",
    "– la valeur si faux : val2\n",
    "\n",
    "val1 if cond else val2\n",
    "\n",
    "Intérêt :\n",
    "– concision\n",
    "– possibilité de l'inclure une expression plus complexe\n"
   ]
  },
  {
   "cell_type": "code",
   "execution_count": 13,
   "id": "8327b1bf",
   "metadata": {},
   "outputs": [
    {
     "name": "stdout",
     "output_type": "stream",
     "text": [
      "5\n"
     ]
    }
   ],
   "source": [
    "a = 5\n",
    "b = 4\n",
    "print(a if a >= b else b)"
   ]
  },
  {
   "cell_type": "code",
   "execution_count": null,
   "id": "04980bdd",
   "metadata": {},
   "outputs": [],
   "source": []
  }
 ],
 "metadata": {
  "kernelspec": {
   "display_name": "Python 3 (ipykernel)",
   "language": "python",
   "name": "python3"
  },
  "language_info": {
   "codemirror_mode": {
    "name": "ipython",
    "version": 3
   },
   "file_extension": ".py",
   "mimetype": "text/x-python",
   "name": "python",
   "nbconvert_exporter": "python",
   "pygments_lexer": "ipython3",
   "version": "3.9.10"
  }
 },
 "nbformat": 4,
 "nbformat_minor": 5
}

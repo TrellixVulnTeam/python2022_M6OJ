{
 "cells": [
  {
   "cell_type": "markdown",
   "id": "b8330003",
   "metadata": {},
   "source": [
    "# Opérateurs de comparaison\n",
    "\n",
    "• égalité\n",
    "• inférieur\n",
    "• supérieur • différent\n",
    "== <, <= >, >= !=\n",
    "Quel est le type de l'expression a==b ?\n",
    "Essayer avec des int, bool, str, float\n",
    "Attention au test d'égalité sur les nombres flottants. Quelle est la bonne méthode pour tester cette égalité ?"
   ]
  },
  {
   "cell_type": "code",
   "execution_count": 1,
   "id": "802f131f",
   "metadata": {},
   "outputs": [],
   "source": [
    "prix = 100"
   ]
  },
  {
   "cell_type": "code",
   "execution_count": 2,
   "id": "3eea0e67",
   "metadata": {},
   "outputs": [
    {
     "data": {
      "text/plain": [
       "False"
      ]
     },
     "execution_count": 2,
     "metadata": {},
     "output_type": "execute_result"
    }
   ],
   "source": [
    "prix == 50"
   ]
  },
  {
   "cell_type": "code",
   "execution_count": 4,
   "id": "f762920c",
   "metadata": {},
   "outputs": [
    {
     "data": {
      "text/plain": [
       "True"
      ]
     },
     "execution_count": 4,
     "metadata": {},
     "output_type": "execute_result"
    }
   ],
   "source": [
    "prix >= 50"
   ]
  },
  {
   "cell_type": "code",
   "execution_count": 5,
   "id": "af134141",
   "metadata": {},
   "outputs": [
    {
     "data": {
      "text/plain": [
       "True"
      ]
     },
     "execution_count": 5,
     "metadata": {},
     "output_type": "execute_result"
    }
   ],
   "source": [
    "prix != \"toto\""
   ]
  },
  {
   "cell_type": "code",
   "execution_count": 13,
   "id": "cea91c71",
   "metadata": {},
   "outputs": [
    {
     "data": {
      "text/plain": [
       "True"
      ]
     },
     "execution_count": 13,
     "metadata": {},
     "output_type": "execute_result"
    }
   ],
   "source": [
    "a=\"bola\"; b=\"casa\"; a<b"
   ]
  },
  {
   "cell_type": "code",
   "execution_count": 18,
   "id": "4ccaa8e4",
   "metadata": {},
   "outputs": [
    {
     "data": {
      "text/plain": [
       "12.123457"
      ]
     },
     "execution_count": 18,
     "metadata": {},
     "output_type": "execute_result"
    }
   ],
   "source": [
    "x1=12.1234567; round(x1,6)"
   ]
  },
  {
   "cell_type": "code",
   "execution_count": 17,
   "id": "7ad30830",
   "metadata": {},
   "outputs": [
    {
     "data": {
      "text/plain": [
       "12.123456"
      ]
     },
     "execution_count": 17,
     "metadata": {},
     "output_type": "execute_result"
    }
   ],
   "source": [
    "x=12.123456;  round(x, 6)"
   ]
  },
  {
   "cell_type": "code",
   "execution_count": null,
   "id": "55409f2f",
   "metadata": {},
   "outputs": [],
   "source": []
  }
 ],
 "metadata": {
  "kernelspec": {
   "display_name": "Python 3 (ipykernel)",
   "language": "python",
   "name": "python3"
  },
  "language_info": {
   "codemirror_mode": {
    "name": "ipython",
    "version": 3
   },
   "file_extension": ".py",
   "mimetype": "text/x-python",
   "name": "python",
   "nbconvert_exporter": "python",
   "pygments_lexer": "ipython3",
   "version": "3.9.10"
  }
 },
 "nbformat": 4,
 "nbformat_minor": 5
}

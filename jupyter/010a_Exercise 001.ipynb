{
 "cells": [
  {
   "cell_type": "code",
   "execution_count": null,
   "id": "6b99b0ab",
   "metadata": {},
   "outputs": [],
   "source": [
    "rien.py Faire un script Python rien.py que ne fait rien comme ci-contre\n",
    "bonjour.py un script que affiche 'bonjour' au ecran\n",
    "addiction.py - faire un script qui lit deux entiers, i1 et i2, au clavier et qui affiche leur somme sur l'ecran.\n"
   ]
  },
  {
   "cell_type": "code",
   "execution_count": null,
   "id": "6e4fe8f2",
   "metadata": {},
   "outputs": [],
   "source": []
  },
  {
   "cell_type": "code",
   "execution_count": 2,
   "id": "b52c4a8e",
   "metadata": {},
   "outputs": [
    {
     "name": "stdout",
     "output_type": "stream",
     "text": [
      "Bonjour\n"
     ]
    }
   ],
   "source": [
    "print(\"Bonjour\")"
   ]
  },
  {
   "cell_type": "code",
   "execution_count": 1,
   "id": "22f93ac5",
   "metadata": {},
   "outputs": [
    {
     "name": "stdout",
     "output_type": "stream",
     "text": [
      "Entrez i1 :89\n",
      "Entrez i2 :12\n",
      "i1+i2 =  101\n"
     ]
    }
   ],
   "source": [
    "i1 = int(input(\"Entrez i1 :\"))\n",
    "i2 = int(input(\"Entrez i2 :\"))\n",
    "print(\"i1+i2 = \", i1+i2)"
   ]
  },
  {
   "cell_type": "code",
   "execution_count": null,
   "id": "39466866",
   "metadata": {},
   "outputs": [],
   "source": []
  }
 ],
 "metadata": {
  "kernelspec": {
   "display_name": "Python 3 (ipykernel)",
   "language": "python",
   "name": "python3"
  },
  "language_info": {
   "codemirror_mode": {
    "name": "ipython",
    "version": 3
   },
   "file_extension": ".py",
   "mimetype": "text/x-python",
   "name": "python",
   "nbconvert_exporter": "python",
   "pygments_lexer": "ipython3",
   "version": "3.9.10"
  }
 },
 "nbformat": 4,
 "nbformat_minor": 5
}

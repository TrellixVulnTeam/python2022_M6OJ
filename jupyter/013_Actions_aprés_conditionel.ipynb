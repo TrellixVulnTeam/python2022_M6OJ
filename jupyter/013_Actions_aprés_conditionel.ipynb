{
 "cells": [
  {
   "cell_type": "markdown",
   "id": "3cbbfe6f",
   "metadata": {},
   "source": [
    "# Actions aprés le continionel\n",
    "• Ne rien faire\n",
    "if x:\n",
    "   pass\n",
    "\n",
    "• Affectation\n",
    "if x:\n",
    "    x = z\n",
    "\n",
    "• Appel de fonction prédéfinie\n",
    "if x:\n",
    "    print()\n",
    "\n",
    "• Fonction importée\n",
    "\n",
    "– Importer une fonction de bibliothèque\n",
    "\n",
    "• Fonction définie\n",
    "\n",
    "– Définir une fonction"
   ]
  }
 ],
 "metadata": {
  "kernelspec": {
   "display_name": "Python 3 (ipykernel)",
   "language": "python",
   "name": "python3"
  },
  "language_info": {
   "codemirror_mode": {
    "name": "ipython",
    "version": 3
   },
   "file_extension": ".py",
   "mimetype": "text/x-python",
   "name": "python",
   "nbconvert_exporter": "python",
   "pygments_lexer": "ipython3",
   "version": "3.9.10"
  }
 },
 "nbformat": 4,
 "nbformat_minor": 5
}

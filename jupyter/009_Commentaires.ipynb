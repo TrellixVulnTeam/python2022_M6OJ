{
 "cells": [
  {
   "cell_type": "markdown",
   "id": "a6451213",
   "metadata": {},
   "source": [
    "# Commentaires\n",
    "• Les différentes écritures de commentaires en Python\n",
    "– Ligne qui commence par un #\n",
    "– Texte au-delà du # en fin de ligne\n",
    "– Texte sur 1 ou plusieurs lignes entre délimiteurs \"\"\"\n",
    "• Utiles au développeur, au lecteur, pour la maintenance, pour la constitution de documentation ou de tests\n",
    "• Ignorés par l'interpréteur"
   ]
  }
 ],
 "metadata": {
  "kernelspec": {
   "display_name": "Python 3 (ipykernel)",
   "language": "python",
   "name": "python3"
  },
  "language_info": {
   "codemirror_mode": {
    "name": "ipython",
    "version": 3
   },
   "file_extension": ".py",
   "mimetype": "text/x-python",
   "name": "python",
   "nbconvert_exporter": "python",
   "pygments_lexer": "ipython3",
   "version": "3.9.10"
  }
 },
 "nbformat": 4,
 "nbformat_minor": 5
}

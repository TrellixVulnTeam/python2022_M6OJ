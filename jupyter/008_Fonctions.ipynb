{
 "cells": [
  {
   "cell_type": "markdown",
   "id": "b91f3032",
   "metadata": {},
   "source": [
    "# Fonctions"
   ]
  },
  {
   "cell_type": "markdown",
   "id": "2221a441",
   "metadata": {},
   "source": [
    "• Une fonction f\n",
    "• Un ensemble de départ E\n",
    "• Un ensemble d'arrivée F\n",
    "• Domaine de définition D(f)\n",
    "• Ensemble image Im(f)\n",
    "Tout élément de l'ensemble de départ a au plus une image par f\n",
    "L'image de x par f s'écrit : f(x) Se lit \"f de x\".\n",
    " \n",
    " "
   ]
  },
  {
   "cell_type": "markdown",
   "id": "846e294c",
   "metadata": {},
   "source": [
    "Un algorithme qui calcule une (1), ou plus de un, valeur.\n",
    "\n",
    "Cette définition est restrictive.\n",
    "• Python –comme d'autres langages - étend le concept à des algorithmes qui \n",
    "  calculent plus d'une valeur:\n",
    "– périmètre, surface = cercle (rayon) \n",
    "  ou \n",
    "  aucune valeur:\n",
    "– print (\"x = \", x)"
   ]
  },
  {
   "cell_type": "code",
   "execution_count": null,
   "id": "475eb81a",
   "metadata": {},
   "outputs": [],
   "source": [
    "x = 5"
   ]
  },
  {
   "cell_type": "code",
   "execution_count": null,
   "id": "a539f3bd",
   "metadata": {},
   "outputs": [],
   "source": [
    "print(\"x=\", x)"
   ]
  },
  {
   "cell_type": "markdown",
   "id": "2f0c0b92",
   "metadata": {},
   "source": [
    "• Prédéfinies\n",
    "• Fonctions de bibliothèques\n",
    "• Fonctions que l'on définit soi-même..."
   ]
  },
  {
   "cell_type": "code",
   "execution_count": null,
   "id": "55360ca5",
   "metadata": {},
   "outputs": [],
   "source": [
    "x = print(\"abc\")"
   ]
  },
  {
   "cell_type": "code",
   "execution_count": null,
   "id": "4f049c3d",
   "metadata": {},
   "outputs": [],
   "source": [
    "type(x)"
   ]
  },
  {
   "cell_type": "code",
   "execution_count": null,
   "id": "e48c08c4",
   "metadata": {},
   "outputs": [],
   "source": [
    "dir(__builtins__)"
   ]
  },
  {
   "cell_type": "code",
   "execution_count": null,
   "id": "647b56da",
   "metadata": {},
   "outputs": [],
   "source": [
    "age = int(input('Dis moi ton âge:'))"
   ]
  },
  {
   "cell_type": "code",
   "execution_count": null,
   "id": "735346fd",
   "metadata": {},
   "outputs": [],
   "source": [
    "age"
   ]
  },
  {
   "cell_type": "code",
   "execution_count": 1,
   "id": "374c2d40",
   "metadata": {},
   "outputs": [
    {
     "name": "stdout",
     "output_type": "stream",
     "text": [
      "<class 'generator'>\n",
      "['Welcome', 'to', 'Simplilearn']\n"
     ]
    }
   ],
   "source": [
    "def generator():\n",
    "\n",
    "   yield \"Welcome\"\n",
    "\n",
    "   yield \"to\"\n",
    "\n",
    "   yield \"Simplilearn\"\n",
    "\n",
    "gen_object = generator()\n",
    "\n",
    "print(type(gen_object))\n",
    "gen_object1 = gen_object\n",
    "\n",
    "print(list(gen_object1))\n",
    "\n",
    "for i in gen_object:\n",
    "\n",
    "   print(i)"
   ]
  },
  {
   "cell_type": "markdown",
   "id": "43d04797",
   "metadata": {},
   "source": [
    "## Indentation\n",
    " • Les autres langages utilisent le principe des parenthèses pour exprimer\n",
    "– la séquence\n",
    "– l'inclusion\n",
    "L'indentation y est optionnelle – pretty print\n",
    "• Python se sert de l'indentation. Elle n'est pas optionnelle mais fait partie du langage.\n",
    "• La séquence est représentée par l'alignement sur une même verticale\n",
    "• L'inclusion est représentée par un décalage vers la droite (indentation).\n",
    "– le retour vers la gauche correspond à la fermeture de l'inclusion\n",
    "Nombreux exemples à suivre"
   ]
  },
  {
   "cell_type": "code",
   "execution_count": 2,
   "id": "fdd55ed0",
   "metadata": {},
   "outputs": [
    {
     "name": "stdout",
     "output_type": "stream",
     "text": [
      "2\n"
     ]
    }
   ],
   "source": [
    "def fonction():\n",
    " a = 2\n",
    " print(a)\n",
    "fonction()\n"
   ]
  }
 ],
 "metadata": {
  "kernelspec": {
   "display_name": "Python 3 (ipykernel)",
   "language": "python",
   "name": "python3"
  },
  "language_info": {
   "codemirror_mode": {
    "name": "ipython",
    "version": 3
   },
   "file_extension": ".py",
   "mimetype": "text/x-python",
   "name": "python",
   "nbconvert_exporter": "python",
   "pygments_lexer": "ipython3",
   "version": "3.9.10"
  }
 },
 "nbformat": 4,
 "nbformat_minor": 5
}

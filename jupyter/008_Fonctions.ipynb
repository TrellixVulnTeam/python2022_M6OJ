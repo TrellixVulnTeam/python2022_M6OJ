{
 "cells": [
  {
   "cell_type": "markdown",
   "id": "161f9001",
   "metadata": {},
   "source": [
    "# Fonctions"
   ]
  },
  {
   "cell_type": "markdown",
   "id": "4e14726f",
   "metadata": {},
   "source": [
    "• Une fonction f\n",
    "• Un ensemble de départ E\n",
    "• Un ensemble d'arrivée F\n",
    "• Domaine de définition D(f)\n",
    "• Ensemble image Im(f)\n",
    "Tout élément de l'ensemble de départ a au plus une image par f\n",
    "L'image de x par f s'écrit : f(x) Se lit \"f de x\".\n",
    " \n",
    " "
   ]
  },
  {
   "cell_type": "markdown",
   "id": "fda37330",
   "metadata": {},
   "source": [
    "Un algorithme qui calcule une (1), ou plus de un, valeur.\n",
    "\n",
    "Cette définition est restrictive.\n",
    "• Python –comme d'autres langages - étend le concept à des algorithmes qui \n",
    "  calculent plus d'une valeur:\n",
    "– périmètre, surface = cercle (rayon) \n",
    "  ou \n",
    "  aucune valeur:\n",
    "– print (\"x = \", x)"
   ]
  },
  {
   "cell_type": "code",
   "execution_count": null,
   "id": "701570e3",
   "metadata": {},
   "outputs": [],
   "source": [
    "x = 5"
   ]
  },
  {
   "cell_type": "code",
   "execution_count": null,
   "id": "268c060d",
   "metadata": {},
   "outputs": [],
   "source": [
    "print(\"x=\", x)"
   ]
  },
  {
   "cell_type": "markdown",
   "id": "91af70c7",
   "metadata": {},
   "source": [
    "• Prédéfinies\n",
    "• Fonctions de bibliothèques\n",
    "• Fonctions que l'on définit soi-même..."
   ]
  },
  {
   "cell_type": "code",
   "execution_count": null,
   "id": "90d60a35",
   "metadata": {},
   "outputs": [],
   "source": [
    "x = print(\"abc\")"
   ]
  },
  {
   "cell_type": "code",
   "execution_count": null,
   "id": "ca55cf57",
   "metadata": {},
   "outputs": [],
   "source": [
    "type(x)"
   ]
  },
  {
   "cell_type": "code",
   "execution_count": null,
   "id": "07f5ad83",
   "metadata": {},
   "outputs": [],
   "source": [
    "dir(__builtins__)"
   ]
  },
  {
   "cell_type": "code",
   "execution_count": null,
   "id": "34e3c27e",
   "metadata": {},
   "outputs": [],
   "source": [
    "age = int(input('Dis moi ton âge:'))"
   ]
  },
  {
   "cell_type": "code",
   "execution_count": null,
   "id": "4f5aa65f",
   "metadata": {},
   "outputs": [],
   "source": [
    "age"
   ]
  },
  {
   "cell_type": "code",
   "execution_count": 1,
   "id": "01bcf01b",
   "metadata": {},
   "outputs": [
    {
     "name": "stdout",
     "output_type": "stream",
     "text": [
      "<class 'generator'>\n",
      "['Welcome', 'to', 'Simplilearn']\n"
     ]
    }
   ],
   "source": [
    "def generator():\n",
    "\n",
    "   yield \"Welcome\"\n",
    "\n",
    "   yield \"to\"\n",
    "\n",
    "   yield \"Simplilearn\"\n",
    "\n",
    "gen_object = generator()\n",
    "\n",
    "print(type(gen_object))\n",
    "gen_object1 = gen_object\n",
    "\n",
    "print(list(gen_object1))\n",
    "\n",
    "for i in gen_object:\n",
    "\n",
    "   print(i)"
   ]
  },
  {
   "cell_type": "code",
   "execution_count": null,
   "id": "25bee576",
   "metadata": {},
   "outputs": [],
   "source": []
  }
 ],
 "metadata": {
  "kernelspec": {
   "display_name": "Python 3 (ipykernel)",
   "language": "python",
   "name": "python3"
  },
  "language_info": {
   "codemirror_mode": {
    "name": "ipython",
    "version": 3
   },
   "file_extension": ".py",
   "mimetype": "text/x-python",
   "name": "python",
   "nbconvert_exporter": "python",
   "pygments_lexer": "ipython3",
   "version": "3.9.10"
  }
 },
 "nbformat": 4,
 "nbformat_minor": 5
}
